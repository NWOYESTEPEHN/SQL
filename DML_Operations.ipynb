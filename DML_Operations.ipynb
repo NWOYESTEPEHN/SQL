{
 "cells": [
  {
   "cell_type": "markdown",
   "metadata": {},
   "source": [
    "# Data Manipulation Language (DML) operations in SQL. \n",
    "DML operations are used to manipulate data stored in the database tables. They allow you to add, modify, and remove records, thereby enabling you to interact with and manage the data within your database."
   ]
  },
  {
   "cell_type": "code",
   "execution_count": null,
   "metadata": {},
   "outputs": [],
   "source": [
    "## Setup Database Connection\n",
    "import sqlite3\n",
    "import pandas as pd\n",
    "\n",
    "conn = sqlite3.connect('fake_data.db')\n",
    "cursor = conn.cursor()\n",
    "\n",
    "# Execute the SQL command to list all tables\n",
    "cursor.execute(\"SELECT name FROM sqlite_master WHERE type='table'\")\n",
    "\n",
    "# Fetch all the rows (table names)\n",
    "tables = cursor.fetchall()\n",
    "\n",
    "# Print the table names\n",
    "for table in tables:\n",
    "    print(table[0])"
   ]
  },
  {
   "cell_type": "markdown",
   "metadata": {},
   "source": [
    "## Inserting a New Record\n",
    "You want to insert a new record into a table. For example, you want to insert a new record into the names table. "
   ]
  },
  {
   "cell_type": "code",
   "execution_count": 13,
   "metadata": {},
   "outputs": [],
   "source": [
    "cursor.execute('''\n",
    "               INSERT INTO names(full_name, first_name, last_name, prefix) \n",
    "               VALUES ('John Doe', 'John', 'Doe', 'Mr.')\n",
    "               ''')\n",
    "conn.commit()"
   ]
  },
  {
   "cell_type": "markdown",
   "metadata": {},
   "source": [
    "## Inserting Default Values\n",
    "A table can be defined to take default values for specific columns. You want to insert a row of default values without having to specify those values."
   ]
  },
  {
   "cell_type": "code",
   "execution_count": 16,
   "metadata": {},
   "outputs": [],
   "source": [
    "cursor.execute('''\n",
    "                CREATE TABLE IF NOT EXISTS test_table \n",
    "               (id integer default 0,\n",
    "                foo varchar(10))\n",
    "                ''')\n",
    "conn.commit()"
   ]
  },
  {
   "cell_type": "markdown",
   "metadata": {},
   "source": [
    "## Overriding a Default Value with NULL\n",
    "You are inserting into a column having a default value, and you want to override that default value by setting the column to NULL."
   ]
  },
  {
   "cell_type": "code",
   "execution_count": 18,
   "metadata": {},
   "outputs": [],
   "source": [
    "cursor.execute('''\n",
    "               INSERT INTO test_table(id, foo) \n",
    "               VALUES (null, 'bar')\n",
    "               ''')\n",
    "conn.commit()"
   ]
  },
  {
   "cell_type": "markdown",
   "metadata": {},
   "source": [
    "## Copying Rows from One Table into Another\n",
    "You want to copy rows from one table to another by using a query. The query may be complex or simple, but ultimately you want the result to be inserted into another table."
   ]
  },
  {
   "cell_type": "code",
   "execution_count": 20,
   "metadata": {},
   "outputs": [],
   "source": [
    "cursor.execute('''INSERT INTO test_table(id, foo)\n",
    "               SELECT first_name, last_name FROM names\n",
    "               WHERE prefix = 'Mr.'\n",
    "                ''')\n",
    "conn.commit()"
   ]
  },
  {
   "cell_type": "markdown",
   "metadata": {},
   "source": [
    "## Copying a Table Definition\n",
    "You want to create a new table having the same set of columns as an existing table. "
   ]
  },
  {
   "cell_type": "code",
   "execution_count": 23,
   "metadata": {},
   "outputs": [],
   "source": [
    "cursor.execute('''CREATE TABLE IF NOT EXISTS test_table2\n",
    "               AS\n",
    "               SELECT * FROM names\n",
    "               WHERE 1 = 0\n",
    "                ''')\n",
    "conn.commit()"
   ]
  },
  {
   "cell_type": "markdown",
   "metadata": {},
   "source": [
    "## Blocking Inserts to Certain Columns\n",
    "You want to prevent users, or an errant software application, from inserting values into certain table columns.\n",
    "Create a view on the table exposing only those columns you want to expose. Then force all inserts to go through that view."
   ]
  },
  {
   "cell_type": "code",
   "execution_count": 24,
   "metadata": {},
   "outputs": [],
   "source": [
    "cursor.execute('''CREATE VIEW test_view \n",
    "               AS\n",
    "                SELECT first_name, prefix FROM names\n",
    "                 ''')\n",
    "conn.commit()"
   ]
  },
  {
   "cell_type": "markdown",
   "metadata": {},
   "source": [
    "## Modifying Records in a Table\n",
    "You want to modify values for some or all rows in a table.\n"
   ]
  },
  {
   "cell_type": "code",
   "execution_count": null,
   "metadata": {},
   "outputs": [],
   "source": [
    "# Let say you want to increase the salary for every senior position by 10 %\n",
    "cursor.execute('''UPDATE names\n",
    "               SET salary = salary * 1.1\n",
    "               WHERE position = 'Senior'\n",
    "                ''')\n",
    "conn.commit()"
   ]
  },
  {
   "cell_type": "markdown",
   "metadata": {},
   "source": [
    "## Updating When Corresponding Rows Exist\n",
    "You want to update rows in one table when corresponding rows exist in another."
   ]
  },
  {
   "cell_type": "code",
   "execution_count": null,
   "metadata": {},
   "outputs": [],
   "source": [
    "# Let say you want to increase the salary for every senior position by 10 % from the health department\n",
    "cursor.execute('''UPDATE names\n",
    "               SET salary = salary * 1.1\n",
    "               WHERE position = (SELECT position FROM healthcare WHERE department = 'Health')\n",
    "                ''')\n",
    "conn.commit()"
   ]
  },
  {
   "cell_type": "markdown",
   "metadata": {},
   "source": [
    "## Updating with Values from Another Table\n",
    "You want to update rows in one table using values from another."
   ]
  },
  {
   "cell_type": "code",
   "execution_count": null,
   "metadata": {},
   "outputs": [],
   "source": [
    "cursor.execute('''UPDATE names\n",
    "               SET salary = AD.salary * 1.1\n",
    "               FROM addresses AS AD\n",
    "               WHERE AD.position = names.position\n",
    "                ''')\n",
    "conn.commit()"
   ]
  },
  {
   "cell_type": "markdown",
   "metadata": {},
   "source": [
    "## Merging Records\n",
    "You want to conditionally insert, update, or delete records in a table depending on whether corresponding records exist. (If a record exists, then update; if not, then insert; if after updating a row fails to meet a certain condition, delete it.) For example, you want to modify table EMP_COMMISSION such that:"
   ]
  },
  {
   "cell_type": "code",
   "execution_count": 8,
   "metadata": {},
   "outputs": [],
   "source": [
    "# For other databases\n",
    "('''merge into test_table2 tt\n",
    "               USING (SELECT * FROM names) n\n",
    "               ON (tt.id = n.id)\n",
    "               WHEN MATCHED THEN\n",
    "               UPDATE SET tt.prefix = Mr.\n",
    "               DELETE WHERE (first_name = \"Ashley\")\n",
    "               WHEN NOT MATCHED THEN\n",
    "               INSERT (tt.id, tt.full_name, tt.first_name, tt.last_name, tt.prefix)\n",
    "               VALUES (n.id, n.full_name, n.first_name, n.last_name, n.prefix)\n",
    "''')\n",
    "\n",
    "# For the sqlite\n",
    "cursor.execute('''INSERT OR REPLACE INTO test_table2 (id, full_name, first_name, last_name, prefix)\n",
    "               SELECT n.id, n.full_name, n.first_name, n.last_name, n.prefix FROM names n;\n",
    "''')\n",
    "conn.commit()\n"
   ]
  },
  {
   "cell_type": "markdown",
   "metadata": {},
   "source": [
    "## Deleting Referential Integrity Violations\n",
    "You want to delete records from a table when those records refer to nonexistent records in some other table. For example, some employees are assigned to departments that do not exist. You want to delete those employees."
   ]
  },
  {
   "cell_type": "code",
   "execution_count": null,
   "metadata": {},
   "outputs": [],
   "source": [
    "cursor.execute('''DELETE FROM emp\n",
    "               WHERE NOT EXISTS (\n",
    "               SELECT * FROM dept\n",
    "               WHERE dept.deptno = emp.deptno\n",
    ")''')\n",
    "conn.commit()"
   ]
  },
  {
   "cell_type": "markdown",
   "metadata": {},
   "source": [
    "## Deleting Duplicate Records\n",
    "You want to delete duplicate records from a table. Consider the following table, where the duplicate will be judged based on the \"num\" column."
   ]
  },
  {
   "cell_type": "code",
   "execution_count": 48,
   "metadata": {},
   "outputs": [],
   "source": [
    "cursor.execute('''create table test_run (id integer, name varchar(10), num integer);\n",
    "               ''')\n",
    "conn.commit()\n",
    "\n",
    "cursor.execute('''\n",
    "               insert into test_run (id, name,  num) \n",
    "               values (1, 'NAPOLEON', 10),\n",
    "                (2, 'DYNAMITE', 12),\n",
    "               (3, 'DYNAMITE', 13),\n",
    "               (4, 'SHE SELLS', 10),\n",
    "               (5, 'SEA SHELLS', 14),\n",
    "               (6, 'SEA SHELLS', 11),\n",
    "               (7, 'SEA SHELLS', 11)\n",
    "               ''')\n",
    "conn.commit()"
   ]
  },
  {
   "cell_type": "code",
   "execution_count": 49,
   "metadata": {},
   "outputs": [
    {
     "data": {
      "text/html": [
       "<div>\n",
       "<style scoped>\n",
       "    .dataframe tbody tr th:only-of-type {\n",
       "        vertical-align: middle;\n",
       "    }\n",
       "\n",
       "    .dataframe tbody tr th {\n",
       "        vertical-align: top;\n",
       "    }\n",
       "\n",
       "    .dataframe thead th {\n",
       "        text-align: right;\n",
       "    }\n",
       "</style>\n",
       "<table border=\"1\" class=\"dataframe\">\n",
       "  <thead>\n",
       "    <tr style=\"text-align: right;\">\n",
       "      <th></th>\n",
       "      <th>id</th>\n",
       "      <th>name</th>\n",
       "      <th>num</th>\n",
       "    </tr>\n",
       "  </thead>\n",
       "  <tbody>\n",
       "    <tr>\n",
       "      <th>0</th>\n",
       "      <td>1</td>\n",
       "      <td>NAPOLEON</td>\n",
       "      <td>10</td>\n",
       "    </tr>\n",
       "    <tr>\n",
       "      <th>1</th>\n",
       "      <td>2</td>\n",
       "      <td>DYNAMITE</td>\n",
       "      <td>12</td>\n",
       "    </tr>\n",
       "    <tr>\n",
       "      <th>2</th>\n",
       "      <td>3</td>\n",
       "      <td>DYNAMITE</td>\n",
       "      <td>13</td>\n",
       "    </tr>\n",
       "    <tr>\n",
       "      <th>3</th>\n",
       "      <td>4</td>\n",
       "      <td>SHE SELLS</td>\n",
       "      <td>10</td>\n",
       "    </tr>\n",
       "    <tr>\n",
       "      <th>4</th>\n",
       "      <td>5</td>\n",
       "      <td>SEA SHELLS</td>\n",
       "      <td>14</td>\n",
       "    </tr>\n",
       "    <tr>\n",
       "      <th>5</th>\n",
       "      <td>6</td>\n",
       "      <td>SEA SHELLS</td>\n",
       "      <td>11</td>\n",
       "    </tr>\n",
       "    <tr>\n",
       "      <th>6</th>\n",
       "      <td>7</td>\n",
       "      <td>SEA SHELLS</td>\n",
       "      <td>11</td>\n",
       "    </tr>\n",
       "  </tbody>\n",
       "</table>\n",
       "</div>"
      ],
      "text/plain": [
       "   id        name  num\n",
       "0   1    NAPOLEON   10\n",
       "1   2    DYNAMITE   12\n",
       "2   3    DYNAMITE   13\n",
       "3   4   SHE SELLS   10\n",
       "4   5  SEA SHELLS   14\n",
       "5   6  SEA SHELLS   11\n",
       "6   7  SEA SHELLS   11"
      ]
     },
     "metadata": {},
     "output_type": "display_data"
    }
   ],
   "source": [
    "dupes = pd.read_sql(\"SELECT * FROM test_run\", conn)\n",
    "display(dupes)"
   ]
  },
  {
   "cell_type": "code",
   "execution_count": 50,
   "metadata": {},
   "outputs": [],
   "source": [
    "cursor.execute(''' DELETE FROM test_run\n",
    "WHERE id NOT IN (\n",
    "    SELECT id\n",
    "    FROM (\n",
    "        SELECT id, ROW_NUMBER() OVER (PARTITION BY num ORDER BY name) AS rn\n",
    "        FROM test_run\n",
    "    ) AS t\n",
    "    WHERE rn = 1\n",
    ")\n",
    " ''')\n",
    "conn.commit()"
   ]
  },
  {
   "cell_type": "code",
   "execution_count": 51,
   "metadata": {},
   "outputs": [
    {
     "data": {
      "text/html": [
       "<div>\n",
       "<style scoped>\n",
       "    .dataframe tbody tr th:only-of-type {\n",
       "        vertical-align: middle;\n",
       "    }\n",
       "\n",
       "    .dataframe tbody tr th {\n",
       "        vertical-align: top;\n",
       "    }\n",
       "\n",
       "    .dataframe thead th {\n",
       "        text-align: right;\n",
       "    }\n",
       "</style>\n",
       "<table border=\"1\" class=\"dataframe\">\n",
       "  <thead>\n",
       "    <tr style=\"text-align: right;\">\n",
       "      <th></th>\n",
       "      <th>id</th>\n",
       "      <th>name</th>\n",
       "      <th>num</th>\n",
       "    </tr>\n",
       "  </thead>\n",
       "  <tbody>\n",
       "    <tr>\n",
       "      <th>0</th>\n",
       "      <td>1</td>\n",
       "      <td>NAPOLEON</td>\n",
       "      <td>10</td>\n",
       "    </tr>\n",
       "    <tr>\n",
       "      <th>1</th>\n",
       "      <td>2</td>\n",
       "      <td>DYNAMITE</td>\n",
       "      <td>12</td>\n",
       "    </tr>\n",
       "    <tr>\n",
       "      <th>2</th>\n",
       "      <td>3</td>\n",
       "      <td>DYNAMITE</td>\n",
       "      <td>13</td>\n",
       "    </tr>\n",
       "    <tr>\n",
       "      <th>3</th>\n",
       "      <td>5</td>\n",
       "      <td>SEA SHELLS</td>\n",
       "      <td>14</td>\n",
       "    </tr>\n",
       "    <tr>\n",
       "      <th>4</th>\n",
       "      <td>6</td>\n",
       "      <td>SEA SHELLS</td>\n",
       "      <td>11</td>\n",
       "    </tr>\n",
       "  </tbody>\n",
       "</table>\n",
       "</div>"
      ],
      "text/plain": [
       "   id        name  num\n",
       "0   1    NAPOLEON   10\n",
       "1   2    DYNAMITE   12\n",
       "2   3    DYNAMITE   13\n",
       "3   5  SEA SHELLS   14\n",
       "4   6  SEA SHELLS   11"
      ]
     },
     "metadata": {},
     "output_type": "display_data"
    }
   ],
   "source": [
    "dupes = pd.read_sql(\"SELECT DISTINCT id, name, num FROM test_run\", conn)\n",
    "display(dupes)"
   ]
  }
 ],
 "metadata": {
  "kernelspec": {
   "display_name": "Python 3",
   "language": "python",
   "name": "python3"
  },
  "language_info": {
   "codemirror_mode": {
    "name": "ipython",
    "version": 3
   },
   "file_extension": ".py",
   "mimetype": "text/x-python",
   "name": "python",
   "nbconvert_exporter": "python",
   "pygments_lexer": "ipython3",
   "version": "3.11.9"
  }
 },
 "nbformat": 4,
 "nbformat_minor": 2
}
