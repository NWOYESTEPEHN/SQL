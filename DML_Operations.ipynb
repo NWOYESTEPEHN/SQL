{
 "cells": [
  {
   "cell_type": "markdown",
   "metadata": {},
   "source": [
    "# Data Manipulation Language (DML) operations in SQL. \n",
    "DML operations are used to manipulate data stored in the database tables. They allow you to add, modify, and remove records, thereby enabling you to interact with and manage the data within your database."
   ]
  },
  {
   "cell_type": "code",
   "execution_count": 10,
   "metadata": {},
   "outputs": [
    {
     "name": "stdout",
     "output_type": "stream",
     "text": [
      "names\n",
      "addresses\n",
      "texts\n",
      "dates_and_times\n",
      "internet_data\n"
     ]
    }
   ],
   "source": [
    "## Setup Database Connection\n",
    "import sqlite3\n",
    "import pandas as pd\n",
    "\n",
    "conn = sqlite3.connect('fake_data.db')\n",
    "cursor = conn.cursor()\n",
    "\n",
    "# Execute the SQL command to list all tables\n",
    "cursor.execute(\"SELECT name FROM sqlite_master WHERE type='table'\")\n",
    "\n",
    "# Fetch all the rows (table names)\n",
    "tables = cursor.fetchall()\n",
    "\n",
    "# Print the table names\n",
    "for table in tables:\n",
    "    print(table[0])"
   ]
  },
  {
   "cell_type": "markdown",
   "metadata": {},
   "source": [
    "## Inserting a New Record\n",
    "You want to insert a new record into a table. For example, you want to insert a new record into the names table. "
   ]
  },
  {
   "cell_type": "code",
   "execution_count": 13,
   "metadata": {},
   "outputs": [],
   "source": [
    "cursor.execute('''\n",
    "               INSERT INTO names(full_name, first_name, last_name, prefix) \n",
    "               VALUES ('John Doe', 'John', 'Doe', 'Mr.')\n",
    "               ''')\n",
    "conn.commit()"
   ]
  },
  {
   "cell_type": "markdown",
   "metadata": {},
   "source": [
    "## Inserting Default Values\n",
    "A table can be defined to take default values for specific columns. You want to insert a row of default values without having to specify those values."
   ]
  },
  {
   "cell_type": "code",
   "execution_count": 16,
   "metadata": {},
   "outputs": [],
   "source": [
    "cursor.execute('''\n",
    "                CREATE TABLE IF NOT EXISTS test_table \n",
    "               (id integer default 0,\n",
    "                foo varchar(10))\n",
    "                ''')\n",
    "conn.commit()"
   ]
  },
  {
   "cell_type": "markdown",
   "metadata": {},
   "source": [
    "## Overriding a Default Value with NULL\n",
    "You are inserting into a column having a default value, and you want to override that default value by setting the column to NULL."
   ]
  },
  {
   "cell_type": "code",
   "execution_count": 18,
   "metadata": {},
   "outputs": [],
   "source": [
    "cursor.execute('''\n",
    "               INSERT INTO test_table(id, foo) \n",
    "               VALUES (null, 'bar')\n",
    "               ''')\n",
    "conn.commit()"
   ]
  },
  {
   "cell_type": "markdown",
   "metadata": {},
   "source": [
    "## Copying Rows from One Table into Another\n",
    "You want to copy rows from one table to another by using a query. The query may be complex or simple, but ultimately you want the result to be inserted into another table."
   ]
  },
  {
   "cell_type": "code",
   "execution_count": 20,
   "metadata": {},
   "outputs": [],
   "source": [
    "cursor.execute('''INSERT INTO test_table(id, foo)\n",
    "               SELECT first_name, last_name FROM names\n",
    "               WHERE prefix = 'Mr.'\n",
    "                ''')\n",
    "conn.commit()"
   ]
  },
  {
   "cell_type": "markdown",
   "metadata": {},
   "source": [
    "## Copying a Table Definition\n",
    "You want to create a new table having the same set of columns as an existing table. "
   ]
  },
  {
   "cell_type": "code",
   "execution_count": 23,
   "metadata": {},
   "outputs": [],
   "source": [
    "cursor.execute('''CREATE TABLE IF NOT EXISTS test_table2\n",
    "               AS\n",
    "               SELECT * FROM names\n",
    "               WHERE 1 = 0\n",
    "                ''')\n",
    "conn.commit()"
   ]
  },
  {
   "cell_type": "markdown",
   "metadata": {},
   "source": [
    "## Blocking Inserts to Certain Columns\n",
    "You want to prevent users, or an errant software application, from inserting values into certain table columns.\n",
    "Create a view on the table exposing only those columns you want to expose. Then force all inserts to go through that view."
   ]
  },
  {
   "cell_type": "code",
   "execution_count": 24,
   "metadata": {},
   "outputs": [],
   "source": [
    "cursor.execute('''CREATE VIEW test_view \n",
    "               AS\n",
    "                SELECT first_name, prefix FROM names\n",
    "                 ''')\n",
    "conn.commit()"
   ]
  },
  {
   "cell_type": "markdown",
   "metadata": {},
   "source": [
    "## Modifying Records in a Table\n",
    "You want to modify values for some or all rows in a table.\n"
   ]
  },
  {
   "cell_type": "code",
   "execution_count": null,
   "metadata": {},
   "outputs": [],
   "source": [
    "# Let say you want to increase the salary for every senior position by 10 %\n",
    "cursor.execute('''UPDATE names\n",
    "               SET salary = salary * 1.1\n",
    "               WHERE position = 'Senior'\n",
    "                ''')\n",
    "conn.commit()"
   ]
  },
  {
   "cell_type": "markdown",
   "metadata": {},
   "source": [
    "## Updating When Corresponding Rows Exist\n",
    "You want to update rows in one table when corresponding rows exist in another."
   ]
  },
  {
   "cell_type": "code",
   "execution_count": null,
   "metadata": {},
   "outputs": [],
   "source": [
    "# Let say you want to increase the salary for every senior position by 10 % from the health department\n",
    "cursor.execute('''UPDATE names\n",
    "               SET salary = salary * 1.1\n",
    "               WHERE position = (SELECT position FROM healthcare WHERE department = 'Health')\n",
    "                ''')\n",
    "conn.commit()"
   ]
  },
  {
   "cell_type": "markdown",
   "metadata": {},
   "source": [
    "## Updating with Values from Another Table\n",
    "You want to update rows in one table using values from another."
   ]
  },
  {
   "cell_type": "code",
   "execution_count": null,
   "metadata": {},
   "outputs": [],
   "source": [
    "cursor.execute('''UPDATE names\n",
    "               SET salary = AD.salary * 1.1\n",
    "               FROM addresses AS AD\n",
    "               WHERE AD.position = names.position\n",
    "                ''')\n",
    "conn.commit()"
   ]
  }
 ],
 "metadata": {
  "kernelspec": {
   "display_name": "Python 3",
   "language": "python",
   "name": "python3"
  },
  "language_info": {
   "codemirror_mode": {
    "name": "ipython",
    "version": 3
   },
   "file_extension": ".py",
   "mimetype": "text/x-python",
   "name": "python",
   "nbconvert_exporter": "python",
   "pygments_lexer": "ipython3",
   "version": "3.11.9"
  }
 },
 "nbformat": 4,
 "nbformat_minor": 2
}
